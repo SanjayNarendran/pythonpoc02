{
 "cells": [
  {
   "cell_type": "code",
   "execution_count": 1,
   "metadata": {
    "collapsed": true
   },
   "outputs": [],
   "source": [
    "import numpy as np\n",
    "import pandas as pd"
   ]
  },
  {
   "cell_type": "code",
   "execution_count": 2,
   "outputs": [],
   "source": [
    "observations = 1000\n",
    "x = np.random.uniform(low=-10,high=10,size=(observations,1)  )\n",
    "z = np.random.uniform(low=-10,high=10,size=(observations,1)  )\n",
    "noice = np.random.uniform(low=-.1,high=1,size=(observations,1)  )\n",
    "#display(x,z)"
   ],
   "metadata": {
    "collapsed": false
   }
  },
  {
   "cell_type": "code",
   "execution_count": 3,
   "outputs": [
    {
     "name": "stdout",
     "output_type": "stream",
     "text": [
      "(1000, 2)\n"
     ]
    }
   ],
   "source": [
    "inputvar = np.column_stack((x,z))\n",
    "df_inputvar = pd.DataFrame(inputvar)\n",
    "#df_inputvar\n",
    "print(inputvar.shape)"
   ],
   "metadata": {
    "collapsed": false
   }
  },
  {
   "cell_type": "code",
   "execution_count": 7,
   "outputs": [
    {
     "data": {
      "text/plain": "             0\n0   -30.084944\n1     0.377256\n2     0.672658\n3    -1.190224\n4     5.569497\n..         ...\n995  19.878853\n996  23.119062\n997   9.768927\n998 -14.169352\n999  22.679029\n\n[1000 rows x 1 columns]",
      "text/html": "<div>\n<style scoped>\n    .dataframe tbody tr th:only-of-type {\n        vertical-align: middle;\n    }\n\n    .dataframe tbody tr th {\n        vertical-align: top;\n    }\n\n    .dataframe thead th {\n        text-align: right;\n    }\n</style>\n<table border=\"1\" class=\"dataframe\">\n  <thead>\n    <tr style=\"text-align: right;\">\n      <th></th>\n      <th>0</th>\n    </tr>\n  </thead>\n  <tbody>\n    <tr>\n      <th>0</th>\n      <td>-30.084944</td>\n    </tr>\n    <tr>\n      <th>1</th>\n      <td>0.377256</td>\n    </tr>\n    <tr>\n      <th>2</th>\n      <td>0.672658</td>\n    </tr>\n    <tr>\n      <th>3</th>\n      <td>-1.190224</td>\n    </tr>\n    <tr>\n      <th>4</th>\n      <td>5.569497</td>\n    </tr>\n    <tr>\n      <th>...</th>\n      <td>...</td>\n    </tr>\n    <tr>\n      <th>995</th>\n      <td>19.878853</td>\n    </tr>\n    <tr>\n      <th>996</th>\n      <td>23.119062</td>\n    </tr>\n    <tr>\n      <th>997</th>\n      <td>9.768927</td>\n    </tr>\n    <tr>\n      <th>998</th>\n      <td>-14.169352</td>\n    </tr>\n    <tr>\n      <th>999</th>\n      <td>22.679029</td>\n    </tr>\n  </tbody>\n</table>\n<p>1000 rows × 1 columns</p>\n</div>"
     },
     "execution_count": 7,
     "metadata": {},
     "output_type": "execute_result"
    }
   ],
   "source": [
    "target = 2*x + 3*z + 5 + noice\n",
    "df_target = pd.DataFrame(target)\n",
    "df_target"
   ],
   "metadata": {
    "collapsed": false
   }
  },
  {
   "cell_type": "code",
   "execution_count": null,
   "outputs": [],
   "source": [],
   "metadata": {
    "collapsed": false
   }
  }
 ],
 "metadata": {
  "kernelspec": {
   "display_name": "Python 3",
   "language": "python",
   "name": "python3"
  },
  "language_info": {
   "codemirror_mode": {
    "name": "ipython",
    "version": 2
   },
   "file_extension": ".py",
   "mimetype": "text/x-python",
   "name": "python",
   "nbconvert_exporter": "python",
   "pygments_lexer": "ipython2",
   "version": "2.7.6"
  }
 },
 "nbformat": 4,
 "nbformat_minor": 0
}
