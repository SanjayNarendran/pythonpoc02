{
 "cells": [
  {
   "cell_type": "code",
   "execution_count": 3,
   "metadata": {
    "collapsed": false
   },
   "outputs": [],
   "source": [
    "import numpy as np\n",
    "import pandas as pd\n",
    "import matplotlib.pyplot as plt\n",
    "#import statsmodels.api as sm\n",
    "from sklearn.linear_model import LinearRegression\n",
    "from sklearn import preprocessing\n",
    "from sklearn.model_selection import train_test_split\n",
    "import seaborn as sns\n",
    "sns.set()"
   ]
  },
  {
   "cell_type": "code",
   "execution_count": 4,
   "outputs": [
    {
     "data": {
      "text/plain": "array([  1,   2,   3,   4,   5,   6,   7,   8,   9,  10,  11,  12,  13,\n        14,  15,  16,  17,  18,  19,  20,  21,  22,  23,  24,  25,  26,\n        27,  28,  29,  30,  31,  32,  33,  34,  35,  36,  37,  38,  39,\n        40,  41,  42,  43,  44,  45,  46,  47,  48,  49,  50,  51,  52,\n        53,  54,  55,  56,  57,  58,  59,  60,  61,  62,  63,  64,  65,\n        66,  67,  68,  69,  70,  71,  72,  73,  74,  75,  76,  77,  78,\n        79,  80,  81,  82,  83,  84,  85,  86,  87,  88,  89,  90,  91,\n        92,  93,  94,  95,  96,  97,  98,  99, 100])"
     },
     "execution_count": 4,
     "metadata": {},
     "output_type": "execute_result"
    }
   ],
   "source": [
    "a = np.arange(1, 101)\n",
    "a"
   ],
   "metadata": {
    "collapsed": false
   }
  },
  {
   "cell_type": "code",
   "execution_count": 8,
   "outputs": [
    {
     "data": {
      "text/plain": "array([501, 502, 503, 504, 505, 506, 507, 508, 509, 510, 511, 512, 513,\n       514, 515, 516, 517, 518, 519, 520, 521, 522, 523, 524, 525, 526,\n       527, 528, 529, 530, 531, 532, 533, 534, 535, 536, 537, 538, 539,\n       540, 541, 542, 543, 544, 545, 546, 547, 548, 549, 550, 551, 552,\n       553, 554, 555, 556, 557, 558, 559, 560, 561, 562, 563, 564, 565,\n       566, 567, 568, 569, 570, 571, 572, 573, 574, 575, 576, 577, 578,\n       579, 580, 581, 582, 583, 584, 585, 586, 587, 588, 589, 590, 591,\n       592, 593, 594, 595, 596, 597, 598, 599, 600])"
     },
     "execution_count": 8,
     "metadata": {},
     "output_type": "execute_result"
    }
   ],
   "source": [
    "b = np.arange(501, 601)\n",
    "b"
   ],
   "metadata": {
    "collapsed": false
   }
  },
  {
   "cell_type": "code",
   "execution_count": 9,
   "outputs": [],
   "source": [
    "a_train, a_test, b_train, b_test = train_test_split(a, b, random_state=25)"
   ],
   "metadata": {
    "collapsed": false
   }
  },
  {
   "cell_type": "code",
   "execution_count": 10,
   "outputs": [
    {
     "data": {
      "text/plain": "array([ 22,  55,  78,  25,  68,  13,  36,  97,  94,   8,  86,  95,  59,\n        43,  15,  18,  69,  20,  21,  27,  57,  54,  12,  84,  79,  71,\n         6,   3,  53,  39,  77,  44,  41,  38,  31,  35,  72,  98,  19,\n        50,  80,  76,  61,  11,  33,  10,  37,  93,  17,  74,  48,  49,\n        89,  23,  87,  83,  46,  85,  56,   4,  40,   2,  70,  32, 100,\n        29,   9,  51,  45,  24,  62,  16,  91,  63,   5])"
     },
     "execution_count": 10,
     "metadata": {},
     "output_type": "execute_result"
    }
   ],
   "source": [
    "a_train"
   ],
   "metadata": {
    "collapsed": false
   }
  },
  {
   "cell_type": "code",
   "execution_count": 11,
   "outputs": [
    {
     "data": {
      "text/plain": "array([42, 30, 34, 66, 75,  7, 58, 90, 88, 99,  1, 65, 82, 73, 67, 92, 96,\n       64, 60, 47, 81, 26, 28, 14, 52])"
     },
     "execution_count": 11,
     "metadata": {},
     "output_type": "execute_result"
    }
   ],
   "source": [
    "a_test"
   ],
   "metadata": {
    "collapsed": false
   }
  },
  {
   "cell_type": "code",
   "execution_count": null,
   "outputs": [],
   "source": [],
   "metadata": {
    "collapsed": false
   }
  }
 ],
 "metadata": {
  "kernelspec": {
   "display_name": "Python 3.10.4 (conda)",
   "language": "python",
   "name": "python3"
  },
  "language_info": {
   "codemirror_mode": {
    "name": "ipython",
    "version": 3
   },
   "file_extension": ".py",
   "mimetype": "text/x-python",
   "name": "python",
   "nbconvert_exporter": "python",
   "pygments_lexer": "ipython3",
   "version": "3.10.4"
  },
  "vscode": {
   "interpreter": {
    "hash": "bd2b89bf8a6036363833a9a65e40aa8f53af42f82b63b3198cb699c12416a067"
   }
  }
 },
 "nbformat": 4,
 "nbformat_minor": 0
}
