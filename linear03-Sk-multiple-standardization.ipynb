{
 "cells": [
  {
   "cell_type": "code",
   "execution_count": 76,
   "metadata": {
    "collapsed": false
   },
   "outputs": [],
   "source": [
    "import numpy as np\n",
    "import pandas as pd\n",
    "import matplotlib.pyplot as plt\n",
    "#import statsmodels.api as sm\n",
    "from sklearn.linear_model import LinearRegression\n",
    "from sklearn import preprocessing\n",
    "import seaborn as sns\n",
    "sns.set()"
   ]
  },
  {
   "cell_type": "code",
   "execution_count": 77,
   "outputs": [
    {
     "data": {
      "text/plain": "     SAT  Rand 1,2,3   GPA\n0   1714           1  2.40\n1   1664           3  2.52\n2   1760           3  2.54\n3   1685           3  2.74\n4   1693           2  2.83\n..   ...         ...   ...\n79  1936           3  3.71\n80  1810           1  3.71\n81  1987           3  3.73\n82  1962           1  3.76\n83  2050           2  3.81\n\n[84 rows x 3 columns]",
      "text/html": "<div>\n<style scoped>\n    .dataframe tbody tr th:only-of-type {\n        vertical-align: middle;\n    }\n\n    .dataframe tbody tr th {\n        vertical-align: top;\n    }\n\n    .dataframe thead th {\n        text-align: right;\n    }\n</style>\n<table border=\"1\" class=\"dataframe\">\n  <thead>\n    <tr style=\"text-align: right;\">\n      <th></th>\n      <th>SAT</th>\n      <th>Rand 1,2,3</th>\n      <th>GPA</th>\n    </tr>\n  </thead>\n  <tbody>\n    <tr>\n      <th>0</th>\n      <td>1714</td>\n      <td>1</td>\n      <td>2.40</td>\n    </tr>\n    <tr>\n      <th>1</th>\n      <td>1664</td>\n      <td>3</td>\n      <td>2.52</td>\n    </tr>\n    <tr>\n      <th>2</th>\n      <td>1760</td>\n      <td>3</td>\n      <td>2.54</td>\n    </tr>\n    <tr>\n      <th>3</th>\n      <td>1685</td>\n      <td>3</td>\n      <td>2.74</td>\n    </tr>\n    <tr>\n      <th>4</th>\n      <td>1693</td>\n      <td>2</td>\n      <td>2.83</td>\n    </tr>\n    <tr>\n      <th>...</th>\n      <td>...</td>\n      <td>...</td>\n      <td>...</td>\n    </tr>\n    <tr>\n      <th>79</th>\n      <td>1936</td>\n      <td>3</td>\n      <td>3.71</td>\n    </tr>\n    <tr>\n      <th>80</th>\n      <td>1810</td>\n      <td>1</td>\n      <td>3.71</td>\n    </tr>\n    <tr>\n      <th>81</th>\n      <td>1987</td>\n      <td>3</td>\n      <td>3.73</td>\n    </tr>\n    <tr>\n      <th>82</th>\n      <td>1962</td>\n      <td>1</td>\n      <td>3.76</td>\n    </tr>\n    <tr>\n      <th>83</th>\n      <td>2050</td>\n      <td>2</td>\n      <td>3.81</td>\n    </tr>\n  </tbody>\n</table>\n<p>84 rows × 3 columns</p>\n</div>"
     },
     "execution_count": 77,
     "metadata": {},
     "output_type": "execute_result"
    }
   ],
   "source": [
    "data = pd.read_csv(\"./1.02.+Multiple+linear+regression.csv\")\n",
    "data"
   ],
   "metadata": {
    "collapsed": false
   }
  },
  {
   "cell_type": "code",
   "execution_count": 78,
   "outputs": [
    {
     "data": {
      "text/plain": "               SAT  Rand 1,2,3        GPA\ncount    84.000000   84.000000  84.000000\nmean   1845.273810    2.059524   3.330238\nstd     104.530661    0.855192   0.271617\nmin    1634.000000    1.000000   2.400000\n25%    1772.000000    1.000000   3.190000\n50%    1846.000000    2.000000   3.380000\n75%    1934.000000    3.000000   3.502500\nmax    2050.000000    3.000000   3.810000",
      "text/html": "<div>\n<style scoped>\n    .dataframe tbody tr th:only-of-type {\n        vertical-align: middle;\n    }\n\n    .dataframe tbody tr th {\n        vertical-align: top;\n    }\n\n    .dataframe thead th {\n        text-align: right;\n    }\n</style>\n<table border=\"1\" class=\"dataframe\">\n  <thead>\n    <tr style=\"text-align: right;\">\n      <th></th>\n      <th>SAT</th>\n      <th>Rand 1,2,3</th>\n      <th>GPA</th>\n    </tr>\n  </thead>\n  <tbody>\n    <tr>\n      <th>count</th>\n      <td>84.000000</td>\n      <td>84.000000</td>\n      <td>84.000000</td>\n    </tr>\n    <tr>\n      <th>mean</th>\n      <td>1845.273810</td>\n      <td>2.059524</td>\n      <td>3.330238</td>\n    </tr>\n    <tr>\n      <th>std</th>\n      <td>104.530661</td>\n      <td>0.855192</td>\n      <td>0.271617</td>\n    </tr>\n    <tr>\n      <th>min</th>\n      <td>1634.000000</td>\n      <td>1.000000</td>\n      <td>2.400000</td>\n    </tr>\n    <tr>\n      <th>25%</th>\n      <td>1772.000000</td>\n      <td>1.000000</td>\n      <td>3.190000</td>\n    </tr>\n    <tr>\n      <th>50%</th>\n      <td>1846.000000</td>\n      <td>2.000000</td>\n      <td>3.380000</td>\n    </tr>\n    <tr>\n      <th>75%</th>\n      <td>1934.000000</td>\n      <td>3.000000</td>\n      <td>3.502500</td>\n    </tr>\n    <tr>\n      <th>max</th>\n      <td>2050.000000</td>\n      <td>3.000000</td>\n      <td>3.810000</td>\n    </tr>\n  </tbody>\n</table>\n</div>"
     },
     "execution_count": 78,
     "metadata": {},
     "output_type": "execute_result"
    }
   ],
   "source": [
    "data.describe()"
   ],
   "metadata": {
    "collapsed": false
   }
  },
  {
   "cell_type": "code",
   "execution_count": 79,
   "outputs": [
    {
     "data": {
      "text/plain": "     SAT  Rand 1,2,3\n0   1714           1\n1   1664           3\n2   1760           3\n3   1685           3\n4   1693           2\n..   ...         ...\n79  1936           3\n80  1810           1\n81  1987           3\n82  1962           1\n83  2050           2\n\n[84 rows x 2 columns]",
      "text/html": "<div>\n<style scoped>\n    .dataframe tbody tr th:only-of-type {\n        vertical-align: middle;\n    }\n\n    .dataframe tbody tr th {\n        vertical-align: top;\n    }\n\n    .dataframe thead th {\n        text-align: right;\n    }\n</style>\n<table border=\"1\" class=\"dataframe\">\n  <thead>\n    <tr style=\"text-align: right;\">\n      <th></th>\n      <th>SAT</th>\n      <th>Rand 1,2,3</th>\n    </tr>\n  </thead>\n  <tbody>\n    <tr>\n      <th>0</th>\n      <td>1714</td>\n      <td>1</td>\n    </tr>\n    <tr>\n      <th>1</th>\n      <td>1664</td>\n      <td>3</td>\n    </tr>\n    <tr>\n      <th>2</th>\n      <td>1760</td>\n      <td>3</td>\n    </tr>\n    <tr>\n      <th>3</th>\n      <td>1685</td>\n      <td>3</td>\n    </tr>\n    <tr>\n      <th>4</th>\n      <td>1693</td>\n      <td>2</td>\n    </tr>\n    <tr>\n      <th>...</th>\n      <td>...</td>\n      <td>...</td>\n    </tr>\n    <tr>\n      <th>79</th>\n      <td>1936</td>\n      <td>3</td>\n    </tr>\n    <tr>\n      <th>80</th>\n      <td>1810</td>\n      <td>1</td>\n    </tr>\n    <tr>\n      <th>81</th>\n      <td>1987</td>\n      <td>3</td>\n    </tr>\n    <tr>\n      <th>82</th>\n      <td>1962</td>\n      <td>1</td>\n    </tr>\n    <tr>\n      <th>83</th>\n      <td>2050</td>\n      <td>2</td>\n    </tr>\n  </tbody>\n</table>\n<p>84 rows × 2 columns</p>\n</div>"
     },
     "execution_count": 79,
     "metadata": {},
     "output_type": "execute_result"
    }
   ],
   "source": [
    "y = data[\"GPA\"]\n",
    "x = data[[\"SAT\",\"Rand 1,2,3\"]]\n",
    "x"
   ],
   "metadata": {
    "collapsed": false
   }
  },
  {
   "cell_type": "code",
   "execution_count": 80,
   "outputs": [
    {
     "data": {
      "text/plain": "<Figure size 640x480 with 1 Axes>",
      "image/png": "[encoded data removed]"
     },
     "metadata": {},
     "output_type": "display_data"
    }
   ],
   "source": [
    "#plt.scatter(x1[\"Rand 1,2,3\"],y)\n",
    "plt.scatter(x[\"SAT\"],y, c= x[\"Rand 1,2,3\"])\n",
    "plt.show()"
   ],
   "metadata": {
    "collapsed": false
   }
  },
  {
   "cell_type": "code",
   "execution_count": 81,
   "outputs": [
    {
     "data": {
      "text/plain": "0.4066811952814282"
     },
     "execution_count": 81,
     "metadata": {},
     "output_type": "execute_result"
    }
   ],
   "source": [
    "reg = LinearRegression().fit(x,y)\n",
    "# This is to get R Squared\n",
    "reg.score(x,y)"
   ],
   "metadata": {
    "collapsed": false
   }
  },
  {
   "cell_type": "code",
   "execution_count": 82,
   "outputs": [
    {
     "data": {
      "text/plain": "array([ 0.00165354, -0.00826982])"
     },
     "execution_count": 82,
     "metadata": {},
     "output_type": "execute_result"
    }
   ],
   "source": [
    "# This is to get Coef of the feature\n",
    "reg.coef_"
   ],
   "metadata": {
    "collapsed": false
   }
  },
  {
   "cell_type": "code",
   "execution_count": 83,
   "outputs": [
    {
     "data": {
      "text/plain": "0.29603261264909575"
     },
     "execution_count": 83,
     "metadata": {},
     "output_type": "execute_result"
    }
   ],
   "source": [
    "# This is to get intercept\n",
    "reg.intercept_"
   ],
   "metadata": {
    "collapsed": false
   }
  },
  {
   "cell_type": "code",
   "execution_count": 84,
   "outputs": [
    {
     "data": {
      "text/plain": "    SAT  Rand 1,2,3\n0  3000           1\n1  3200           2\n2  3500           3",
      "text/html": "<div>\n<style scoped>\n    .dataframe tbody tr th:only-of-type {\n        vertical-align: middle;\n    }\n\n    .dataframe tbody tr th {\n        vertical-align: top;\n    }\n\n    .dataframe thead th {\n        text-align: right;\n    }\n</style>\n<table border=\"1\" class=\"dataframe\">\n  <thead>\n    <tr style=\"text-align: right;\">\n      <th></th>\n      <th>SAT</th>\n      <th>Rand 1,2,3</th>\n    </tr>\n  </thead>\n  <tbody>\n    <tr>\n      <th>0</th>\n      <td>3000</td>\n      <td>1</td>\n    </tr>\n    <tr>\n      <th>1</th>\n      <td>3200</td>\n      <td>2</td>\n    </tr>\n    <tr>\n      <th>2</th>\n      <td>3500</td>\n      <td>3</td>\n    </tr>\n  </tbody>\n</table>\n</div>"
     },
     "execution_count": 84,
     "metadata": {},
     "output_type": "execute_result"
    }
   ],
   "source": [
    "pred_data =  pd.DataFrame([3000, 3200, 3500], columns=['SAT'])\n",
    "pred_data[\"Rand 1,2,3\"] = [1,2,3]\n",
    "predicted_y = reg.predict(pred_data)\n",
    "pred_data"
   ],
   "metadata": {
    "collapsed": false
   }
  },
  {
   "cell_type": "code",
   "execution_count": 85,
   "outputs": [],
   "source": [
    "#pred_data_out = pd.DataFrame()\n",
    "pred_data_out = pred_data.copy()\n",
    "pred_data_out[\"Predicted GPA\"] = predicted_y"
   ],
   "metadata": {
    "collapsed": false
   }
  },
  {
   "cell_type": "code",
   "execution_count": 86,
   "outputs": [
    {
     "data": {
      "text/plain": "    SAT  Rand 1,2,3\n0  3000           1\n1  3200           2\n2  3500           3",
      "text/html": "<div>\n<style scoped>\n    .dataframe tbody tr th:only-of-type {\n        vertical-align: middle;\n    }\n\n    .dataframe tbody tr th {\n        vertical-align: top;\n    }\n\n    .dataframe thead th {\n        text-align: right;\n    }\n</style>\n<table border=\"1\" class=\"dataframe\">\n  <thead>\n    <tr style=\"text-align: right;\">\n      <th></th>\n      <th>SAT</th>\n      <th>Rand 1,2,3</th>\n    </tr>\n  </thead>\n  <tbody>\n    <tr>\n      <th>0</th>\n      <td>3000</td>\n      <td>1</td>\n    </tr>\n    <tr>\n      <th>1</th>\n      <td>3200</td>\n      <td>2</td>\n    </tr>\n    <tr>\n      <th>2</th>\n      <td>3500</td>\n      <td>3</td>\n    </tr>\n  </tbody>\n</table>\n</div>"
     },
     "execution_count": 86,
     "metadata": {},
     "output_type": "execute_result"
    }
   ],
   "source": [
    "pred_data"
   ],
   "metadata": {
    "collapsed": false
   }
  },
  {
   "cell_type": "code",
   "execution_count": 87,
   "outputs": [
    {
     "data": {
      "text/plain": "array([[-1.26338288, -1.24637147],\n       [-1.74458431,  1.10632974],\n       [-0.82067757,  1.10632974],\n       [-1.54247971,  1.10632974],\n       [-1.46548748, -0.07002087],\n       [-1.68684014, -1.24637147],\n       [-0.78218146, -0.07002087],\n       [-0.78218146, -1.24637147],\n       [-0.51270866, -0.07002087],\n       [ 0.04548499,  1.10632974],\n       [-1.06127829,  1.10632974],\n       [-0.67631715, -0.07002087],\n       [-1.06127829, -1.24637147],\n       [-1.28263094,  1.10632974],\n       [-0.6955652 , -0.07002087],\n       [ 0.25721362, -0.07002087],\n       [-0.86879772,  1.10632974],\n       [-1.64834403, -0.07002087],\n       [-0.03150724,  1.10632974],\n       [-0.57045283,  1.10632974],\n       [-0.81105355,  1.10632974],\n       [-1.18639066,  1.10632974],\n       [-1.75420834,  1.10632974],\n       [-1.52323165, -1.24637147],\n       [ 1.23886453, -1.24637147],\n       [-0.18549169, -1.24637147],\n       [-0.5608288 , -1.24637147],\n       [-0.23361183,  1.10632974],\n       [ 1.68156984, -1.24637147],\n       [-0.4934606 , -0.07002087],\n       [-0.73406132, -1.24637147],\n       [ 0.85390339, -1.24637147],\n       [-0.67631715, -1.24637147],\n       [ 0.09360513,  1.10632974],\n       [ 0.33420585, -0.07002087],\n       [ 0.03586096, -0.07002087],\n       [-0.35872421,  1.10632974],\n       [ 1.04638396,  1.10632974],\n       [-0.65706909,  1.10632974],\n       [-0.13737155, -0.07002087],\n       [ 0.18984542,  1.10632974],\n       [ 0.04548499, -1.24637147],\n       [ 1.1618723 ,  1.10632974],\n       [-1.37887123, -1.24637147],\n       [ 1.39284898, -1.24637147],\n       [ 0.76728713, -0.07002087],\n       [-0.20473975, -0.07002087],\n       [ 1.06563201, -1.24637147],\n       [ 0.11285319, -1.24637147],\n       [ 1.28698467,  1.10632974],\n       [-0.41646838,  1.10632974],\n       [ 0.09360513, -1.24637147],\n       [ 0.59405462, -0.07002087],\n       [-2.03330517, -0.07002087],\n       [ 0.32458182, -1.24637147],\n       [ 0.40157405, -1.24637147],\n       [-1.10939843, -0.07002087],\n       [ 1.03675993, -1.24637147],\n       [-0.61857297, -0.07002087],\n       [ 0.44007016, -0.07002087],\n       [ 1.14262424, -1.24637147],\n       [-0.35872421,  1.10632974],\n       [ 0.45931822,  1.10632974],\n       [ 1.88367444,  1.10632974],\n       [ 0.45931822, -1.24637147],\n       [-0.12774752, -0.07002087],\n       [ 0.04548499,  1.10632974],\n       [ 0.85390339, -0.07002087],\n       [ 0.15134931, -0.07002087],\n       [ 0.8250313 ,  1.10632974],\n       [ 0.84427936,  1.10632974],\n       [-0.64744506, -1.24637147],\n       [ 1.24848856, -1.24637147],\n       [ 0.85390339,  1.10632974],\n       [ 1.69119387,  1.10632974],\n       [ 1.6334497 ,  1.10632974],\n       [ 1.46021718, -1.24637147],\n       [ 1.68156984, -0.07002087],\n       [-0.02188321,  1.10632974],\n       [ 0.87315144,  1.10632974],\n       [-0.33947615, -1.24637147],\n       [ 1.3639769 ,  1.10632974],\n       [ 1.12337618, -1.24637147],\n       [ 1.97029069, -0.07002087]])"
     },
     "execution_count": 87,
     "metadata": {},
     "output_type": "execute_result"
    }
   ],
   "source": [
    "scalar = preprocessing.StandardScaler()\n",
    "scalar.fit(x,y)\n",
    "x_scaled = scalar.transform(x)\n",
    "x_scaled"
   ],
   "metadata": {
    "collapsed": false
   }
  },
  {
   "cell_type": "code",
   "execution_count": 88,
   "outputs": [
    {
     "data": {
      "text/plain": "                  0             1\ncount  8.400000e+01  8.400000e+01\nmean  -1.041495e-15  1.833851e-16\nstd    1.006006e+00  1.006006e+00\nmin   -2.033305e+00 -1.246371e+00\n25%   -7.051892e-01 -1.246371e+00\n50%    6.988878e-03 -7.002087e-02\n75%    8.539034e-01  1.106330e+00\nmax    1.970291e+00  1.106330e+00",
      "text/html": "<div>\n<style scoped>\n    .dataframe tbody tr th:only-of-type {\n        vertical-align: middle;\n    }\n\n    .dataframe tbody tr th {\n        vertical-align: top;\n    }\n\n    .dataframe thead th {\n        text-align: right;\n    }\n</style>\n<table border=\"1\" class=\"dataframe\">\n  <thead>\n    <tr style=\"text-align: right;\">\n      <th></th>\n      <th>0</th>\n      <th>1</th>\n    </tr>\n  </thead>\n  <tbody>\n    <tr>\n      <th>count</th>\n      <td>8.400000e+01</td>\n      <td>8.400000e+01</td>\n    </tr>\n    <tr>\n      <th>mean</th>\n      <td>-1.041495e-15</td>\n      <td>1.833851e-16</td>\n    </tr>\n    <tr>\n      <th>std</th>\n      <td>1.006006e+00</td>\n      <td>1.006006e+00</td>\n    </tr>\n    <tr>\n      <th>min</th>\n      <td>-2.033305e+00</td>\n      <td>-1.246371e+00</td>\n    </tr>\n    <tr>\n      <th>25%</th>\n      <td>-7.051892e-01</td>\n      <td>-1.246371e+00</td>\n    </tr>\n    <tr>\n      <th>50%</th>\n      <td>6.988878e-03</td>\n      <td>-7.002087e-02</td>\n    </tr>\n    <tr>\n      <th>75%</th>\n      <td>8.539034e-01</td>\n      <td>1.106330e+00</td>\n    </tr>\n    <tr>\n      <th>max</th>\n      <td>1.970291e+00</td>\n      <td>1.106330e+00</td>\n    </tr>\n  </tbody>\n</table>\n</div>"
     },
     "execution_count": 88,
     "metadata": {},
     "output_type": "execute_result"
    }
   ],
   "source": [
    "pd.DataFrame(x_scaled).describe()"
   ],
   "metadata": {
    "collapsed": false
   }
  },
  {
   "cell_type": "code",
   "execution_count": 89,
   "outputs": [
    {
     "data": {
      "text/plain": "array([ 0.17181389, -0.00703007])"
     },
     "execution_count": 89,
     "metadata": {},
     "output_type": "execute_result"
    }
   ],
   "source": [
    "reg_scaled = LinearRegression().fit(x_scaled,y)\n",
    "reg_scaled.coef_"
   ],
   "metadata": {
    "collapsed": false
   }
  },
  {
   "cell_type": "code",
   "execution_count": 90,
   "outputs": [
    {
     "data": {
      "text/plain": "3.330238095238095"
     },
     "execution_count": 90,
     "metadata": {},
     "output_type": "execute_result"
    }
   ],
   "source": [
    "reg_scaled.intercept_"
   ],
   "metadata": {
    "collapsed": false
   }
  },
  {
   "cell_type": "code",
   "execution_count": 96,
   "outputs": [],
   "source": [
    "pred_data_scaled = pred_data.copy()"
   ],
   "metadata": {
    "collapsed": false
   }
  },
  {
   "cell_type": "code",
   "execution_count": 98,
   "outputs": [
    {
     "data": {
      "text/plain": "    SAT  Rand 1,2,3  Predicted GPA\n0  3000           1       5.248388\n1  3200           2       5.570827\n2  3500           3       6.058619",
      "text/html": "<div>\n<style scoped>\n    .dataframe tbody tr th:only-of-type {\n        vertical-align: middle;\n    }\n\n    .dataframe tbody tr th {\n        vertical-align: top;\n    }\n\n    .dataframe thead th {\n        text-align: right;\n    }\n</style>\n<table border=\"1\" class=\"dataframe\">\n  <thead>\n    <tr style=\"text-align: right;\">\n      <th></th>\n      <th>SAT</th>\n      <th>Rand 1,2,3</th>\n      <th>Predicted GPA</th>\n    </tr>\n  </thead>\n  <tbody>\n    <tr>\n      <th>0</th>\n      <td>3000</td>\n      <td>1</td>\n      <td>5.248388</td>\n    </tr>\n    <tr>\n      <th>1</th>\n      <td>3200</td>\n      <td>2</td>\n      <td>5.570827</td>\n    </tr>\n    <tr>\n      <th>2</th>\n      <td>3500</td>\n      <td>3</td>\n      <td>6.058619</td>\n    </tr>\n  </tbody>\n</table>\n</div>"
     },
     "execution_count": 98,
     "metadata": {},
     "output_type": "execute_result"
    }
   ],
   "source": [
    "predicted_y_scaled = reg_scaled.predict(scalar.transform(pred_data))\n",
    "pred_data_scaled[\"Predicted GPA\"] = predicted_y_scaled\n",
    "pred_data_scaled"
   ],
   "metadata": {
    "collapsed": false
   }
  },
  {
   "cell_type": "code",
   "execution_count": null,
   "outputs": [],
   "source": [],
   "metadata": {
    "collapsed": false
   }
  }
 ],
 "metadata": {
  "kernelspec": {
   "display_name": "Python 3.10.4 (conda)",
   "language": "python",
   "name": "python3"
  },
  "language_info": {
   "codemirror_mode": {
    "name": "ipython",
    "version": 3
   },
   "file_extension": ".py",
   "mimetype": "text/x-python",
   "name": "python",
   "nbconvert_exporter": "python",
   "pygments_lexer": "ipython3",
   "version": "3.10.4"
  },
  "vscode": {
   "interpreter": {
    "hash": "bd2b89bf8a6036363833a9a65e40aa8f53af42f82b63b3198cb699c12416a067"
   }
  }
 },
 "nbformat": 4,
 "nbformat_minor": 0
}
